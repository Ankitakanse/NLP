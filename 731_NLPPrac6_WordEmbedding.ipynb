{
  "nbformat": 4,
  "nbformat_minor": 0,
  "metadata": {
    "colab": {
      "provenance": []
    },
    "kernelspec": {
      "name": "python3",
      "display_name": "Python 3"
    },
    "language_info": {
      "name": "python"
    }
  },
  "cells": [
    {
      "cell_type": "markdown",
      "source": [
        "# pip install gensim\n",
        "# !pip install wget\n",
        "import gensim\n",
        "from gensim.models import Word2Vec, KeyedVectors\n",
        "!wget -c \"https://news.google.com/home?hl=en-IN&gl=IN&ceid=IN:en\""
      ],
      "metadata": {
        "id": "qfZkGgz2wyjL"
      }
    },
    {
      "cell_type": "code",
      "execution_count": 1,
      "metadata": {
        "id": "le-6xVWLnMZu"
      },
      "outputs": [],
      "source": [
        "import gensim.downloader as api\n",
        "word2vec = api.load(\"word2vec-google-news-300\")"
      ]
    },
    {
      "cell_type": "code",
      "source": [
        "word2vec['cat'].shape # 300 numbers ka vector (300 features)"
      ],
      "metadata": {
        "colab": {
          "base_uri": "https://localhost:8080/",
          "height": 0
        },
        "id": "FIQZhT-RqojM",
        "outputId": "0d255e41-231c-4e64-fdb9-b154ecc48873"
      },
      "execution_count": 2,
      "outputs": [
        {
          "output_type": "execute_result",
          "data": {
            "text/plain": [
              "(300,)"
            ]
          },
          "metadata": {},
          "execution_count": 2
        }
      ]
    },
    {
      "cell_type": "code",
      "source": [
        "word2vec.similarity('cat','kittens')"
      ],
      "metadata": {
        "colab": {
          "base_uri": "https://localhost:8080/",
          "height": 0
        },
        "id": "RoOEJJkysJir",
        "outputId": "f3958a9f-9e82-406b-badb-04053fea4a09"
      },
      "execution_count": 3,
      "outputs": [
        {
          "output_type": "execute_result",
          "data": {
            "text/plain": [
              "0.63871133"
            ]
          },
          "metadata": {},
          "execution_count": 3
        }
      ]
    },
    {
      "cell_type": "code",
      "source": [
        "word2vec.most_similar(\"cat\")"
      ],
      "metadata": {
        "colab": {
          "base_uri": "https://localhost:8080/",
          "height": 0
        },
        "id": "RNhRgU-7sf2C",
        "outputId": "659b5bc0-ab79-48b9-cbc7-c460f07bd73d"
      },
      "execution_count": 4,
      "outputs": [
        {
          "output_type": "execute_result",
          "data": {
            "text/plain": [
              "[('cats', 0.8099379539489746),\n",
              " ('dog', 0.760945737361908),\n",
              " ('kitten', 0.7464985251426697),\n",
              " ('feline', 0.7326234579086304),\n",
              " ('beagle', 0.7150582671165466),\n",
              " ('puppy', 0.7075453400611877),\n",
              " ('pup', 0.6934291124343872),\n",
              " ('pet', 0.6891531348228455),\n",
              " ('felines', 0.6755931973457336),\n",
              " ('chihuahua', 0.6709762215614319)]"
            ]
          },
          "metadata": {},
          "execution_count": 4
        }
      ]
    },
    {
      "cell_type": "code",
      "source": [
        "word2vec.doesnt_match(['cat','kittens','elephant'])"
      ],
      "metadata": {
        "colab": {
          "base_uri": "https://localhost:8080/",
          "height": 35
        },
        "id": "mAvirMydskH6",
        "outputId": "2c64705b-9564-4141-86bd-a351d3abe394"
      },
      "execution_count": 5,
      "outputs": [
        {
          "output_type": "execute_result",
          "data": {
            "text/plain": [
              "'elephant'"
            ],
            "application/vnd.google.colaboratory.intrinsic+json": {
              "type": "string"
            }
          },
          "metadata": {},
          "execution_count": 5
        }
      ]
    },
    {
      "cell_type": "code",
      "source": [
        "word2vec.doesnt_match(['chair','table','building']) # capturing semantic meaning of words and pefrom maching"
      ],
      "metadata": {
        "colab": {
          "base_uri": "https://localhost:8080/",
          "height": 35
        },
        "id": "k3GT8jjSs92i",
        "outputId": "c834d5d8-4219-4498-d7e3-2febb63dc33d"
      },
      "execution_count": 6,
      "outputs": [
        {
          "output_type": "execute_result",
          "data": {
            "text/plain": [
              "'building'"
            ],
            "application/vnd.google.colaboratory.intrinsic+json": {
              "type": "string"
            }
          },
          "metadata": {},
          "execution_count": 6
        }
      ]
    },
    {
      "cell_type": "code",
      "source": [
        "vec = word2vec['king'] - word2vec['men'] + word2vec['women']\n",
        "word2vec.most_similar([vec])"
      ],
      "metadata": {
        "colab": {
          "base_uri": "https://localhost:8080/",
          "height": 0
        },
        "id": "4VNMbLZZtOKB",
        "outputId": "fb3c6fdc-e6b9-42b5-c8af-963042cfd4a1"
      },
      "execution_count": 7,
      "outputs": [
        {
          "output_type": "execute_result",
          "data": {
            "text/plain": [
              "[('king', 0.8527070879936218),\n",
              " ('queen', 0.6743921637535095),\n",
              " ('monarch', 0.6191632151603699),\n",
              " ('kings', 0.5753854513168335),\n",
              " ('crown_prince', 0.562209963798523),\n",
              " ('princess', 0.543317437171936),\n",
              " ('prince', 0.5246985554695129),\n",
              " ('sultan', 0.5236638784408569),\n",
              " ('ruler', 0.5165805220603943),\n",
              " ('monarchy', 0.5113592147827148)]"
            ]
          },
          "metadata": {},
          "execution_count": 7
        }
      ]
    },
    {
      "cell_type": "code",
      "source": [
        "vec2 = word2vec['INR'] - word2vec['INDIA'] + word2vec['ENGLAND']\n",
        "word2vec.most_similar([vec2])"
      ],
      "metadata": {
        "colab": {
          "base_uri": "https://localhost:8080/",
          "height": 0
        },
        "id": "kDsOZx3XuLuq",
        "outputId": "636a515d-1a72-4900-ecf7-416e8c98007c"
      },
      "execution_count": 8,
      "outputs": [
        {
          "output_type": "execute_result",
          "data": {
            "text/plain": [
              "[('INR', 0.5168343186378479),\n",
              " ('ENGLAND', 0.5120964050292969),\n",
              " ('GBP', 0.4450418949127197),\n",
              " ('BLACKBURN_Rovers', 0.42433300614356995),\n",
              " ('Goalkeeper_Maik_Taylor', 0.4195941090583801),\n",
              " ('Sol_Campbell_Sylvain_Distin', 0.4178478419780731),\n",
              " ('Ledley_King_Jamie_Carragher', 0.4158109724521637),\n",
              " ('striker_Emile_Heskey', 0.41200312972068787),\n",
              " ('#,###.##_PER_GBP', 0.40780407190322876),\n",
              " ('Â_£', 0.40709665417671204)]"
            ]
          },
          "metadata": {},
          "execution_count": 8
        }
      ]
    },
    {
      "cell_type": "code",
      "source": [
        "word2vec.most_similar(['man'])"
      ],
      "metadata": {
        "colab": {
          "base_uri": "https://localhost:8080/",
          "height": 0
        },
        "id": "FiiJ7bxRum0S",
        "outputId": "f791e4b9-abe4-4545-92de-0fb6cfaad6d8"
      },
      "execution_count": 9,
      "outputs": [
        {
          "output_type": "execute_result",
          "data": {
            "text/plain": [
              "[('woman', 0.7664012908935547),\n",
              " ('boy', 0.6824871301651001),\n",
              " ('teenager', 0.6586930155754089),\n",
              " ('teenage_girl', 0.6147903203964233),\n",
              " ('girl', 0.5921714305877686),\n",
              " ('suspected_purse_snatcher', 0.571636438369751),\n",
              " ('robber', 0.5585119128227234),\n",
              " ('Robbery_suspect', 0.5584409832954407),\n",
              " ('teen_ager', 0.5549196600914001),\n",
              " ('men', 0.5489763021469116)]"
            ]
          },
          "metadata": {},
          "execution_count": 9
        }
      ]
    },
    {
      "cell_type": "code",
      "source": [
        "word2vec.most_similar(['zombie'])"
      ],
      "metadata": {
        "colab": {
          "base_uri": "https://localhost:8080/",
          "height": 0
        },
        "id": "IiX85dpavukx",
        "outputId": "f1b26d2b-89a9-45c8-e31c-c3399dffa70a"
      },
      "execution_count": 10,
      "outputs": [
        {
          "output_type": "execute_result",
          "data": {
            "text/plain": [
              "[('zombies', 0.8285115361213684),\n",
              " ('undead', 0.7523661851882935),\n",
              " ('Zombie', 0.6763738989830017),\n",
              " ('zombified', 0.6698429584503174),\n",
              " ('zombie_hordes', 0.6195045113563538),\n",
              " ('Zombies', 0.6025538444519043),\n",
              " ('reanimated_corpses', 0.5869238376617432),\n",
              " ('flesh_eaters', 0.5797232985496521),\n",
              " ('vampire', 0.5776239037513733),\n",
              " ('zombie_flicks', 0.5704750418663025)]"
            ]
          },
          "metadata": {},
          "execution_count": 10
        }
      ]
    },
    {
      "cell_type": "code",
      "source": [],
      "metadata": {
        "id": "mc1t6RLrwRNp"
      },
      "execution_count": 10,
      "outputs": []
    }
  ]
}